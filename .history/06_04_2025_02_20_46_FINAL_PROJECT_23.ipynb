{
 "cells": [
  {
   "cell_type": "markdown",
   "id": "738de7cb-c409-4404-ac92-7297f635ea55",
   "metadata": {},
   "source": [
    "# Playing Time Influenced by Gender as a Predictor for Game Newsletter Subscription\n",
    "By Group 23 (Aayush, Kathleen, QingYou, Gordon) "
   ]
  },
  {
   "cell_type": "markdown",
   "id": "b8171436-a5df-43a8-97b0-f25e2d41b139",
   "metadata": {},
   "source": [
    "## Introduction\n",
    "#### Background:\n",
    "\n",
    "Frank Wood is leading a research group in computer science at UBC and collecting data about the ways people play video games by hosting a MineCraft server that automatically tracks player analytics. The group needs to strategically target recruitment efforts for players and ensure that their computational resources are sufficient to support their player base. They've accumulated the `players` dataset which we will work with to draw findings about player activity based on demographics.\n",
    "\n",
    "#### Question\n",
    "\n",
    "**General Question:**\n",
    "\n",
    "What player characteristics and behaviours are most predictive of subscribing to a game-related newsletter, and how do these features differ between various player types? (Question 1)\n",
    "\n",
    "**Specific Interpretation:**\n",
    "\n",
    "To what extent can a player's played hours and age predict subscription status in the players dataset? \n",
    "\n",
    "#### Dataset Overview\n",
    "\n",
    "To answer this question, we will use the `players` dataset to create a KNN classifier that predicts subscription status. \n",
    "\n",
    "The `players` dataset includes 196 observations and 7 variables describing player demographic information and activity on the server. The following variables are included in the full dataset:\n",
    "\n",
    "| Variable | Type | Description |\n",
    "|--------|----|-----------|\n",
    "| `experience` | character | Player's skill level |\n",
    "| `subscribe` | logical | Indicates whether player subscribes to a game-related newsletter |\n",
    "| `hashedEmail` |character | Unique identifier for each player (hashed) |\n",
    "| `played_hours` | numeric | Total accumulated play time on the server in hours |\n",
    "| `name` | character | Player's name |\n",
    "| `gender` | character | Gender |\n",
    "| `Age` | numeric | Player's age |\n",
    "\n",
    "To answer our question, we are only interested in `subscribe`, `played hours`, and `age`.\n",
    "\n",
    "**Response variable:**\n",
    "* `subscribe`: Indicates whether a player is subscribed to a game-related newsletter, each value can be interpreted as one of two classes. \n",
    "\n",
    "**Explanatory variables:**\n",
    "* `played hours`: The total number of hours a player has logged on the server. This is reliable as it is automatically tracked.\n",
    "* `age`: The self-reported age in years of a player. There could be response bias or incorrect information in this data.\n",
    "\n",
    "Age has two NA values. We will handle this by dropping those observations."
   ]
  },
  {
   "cell_type": "markdown",
   "id": "2bdd66bc-7405-4aec-bd76-74f8acccc4fe",
   "metadata": {},
   "source": [
    "## Methods and Results\n",
    "\n",
    "We will be training a KNN classifier off our player data in order to see if we can predict subscription status based on a player's played hours and age.\n",
    "\n",
    "#### Step 1: Loading Libaries and Data\n",
    "\n",
    "We'll first load some libraries that we'll (absolutely or possibly) need. Then we'll read in our players dataset using a URL so that this project is able to run on different devices."
   ]
  },
  {
   "cell_type": "code",
   "execution_count": null,
   "id": "0be66cea-951c-4914-a1ea-2e3d62a41807",
   "metadata": {},
   "outputs": [],
   "source": [
    "library(tidyverse)\n",
    "library(repr)\n",
    "library(tidymodels)\n",
    "library(RColorBrewer)\n",
    "options(repr.matrix.max.rows = 6)"
   ]
  },
  {
   "cell_type": "code",
   "execution_count": null,
   "id": "a1b09d50-67a6-4eba-b92b-7800d868bdca",
   "metadata": {},
   "outputs": [],
   "source": [
    "players <- read_csv('https://raw.githubusercontent.com/kathleenramsey/dsci100_group23/main/Project%20Planning%20Players.csv')\n",
    "players"
   ]
  },
  {
   "cell_type": "markdown",
   "id": "a91f2c50-6987-4057-90e6-b5a499408ab4",
   "metadata": {},
   "source": [
    "#### Step 2: Wrangling and Preparing Data\n",
    "\n",
    "After loading in the data, we'll tidy it by changing the datatypes of `experience`, `gender`, and `subscribe` into factor variables. We'll also go on and remove the two rows that have missing `Age` variables."
   ]
  },
  {
   "cell_type": "code",
   "execution_count": null,
   "id": "ed388a87-f928-49f1-8189-6fb609664c17",
   "metadata": {},
   "outputs": [],
   "source": [
    "players_tidy <- players |>\n",
    "    mutate(subscribe = as_factor(subscribe)) |>\n",
    "    filter(is.na(Age) == FALSE) |>\n",
    "    select(Age, played_hours, subscribe)\n",
    "players_tidy"
   ]
  },
  {
   "cell_type": "markdown",
   "id": "42091262-c43e-4940-acc8-9f46ccd84e9f",
   "metadata": {},
   "source": [
    "#### Step 3: Summary of Exploratory Data\n",
    "\n",
    "Below we are getting some statistics on the variables from our players dataset we will use for our analysis. We can see roughly 3/4 of the players are subscribed to a game-related newspaper. We can see that the mean age of the players are around 20 and that there is a strong skew to low values in `played_hours` with many players having 0 played hours."
   ]
  },
  {
   "cell_type": "code",
   "execution_count": null,
   "id": "0470a760-08fd-4d6d-a6e6-62f416d10470",
   "metadata": {},
   "outputs": [],
   "source": [
    "subscription_proportion <- players_tidy |>\n",
    "    group_by(subscribe) |>\n",
    "    summarize(count = n()) |>\n",
    "    mutate(percentage = (count / sum(count)) * 100)\n",
    "subscription_proportion\n",
    "\n",
    "age_summary <- players_tidy |>\n",
    "    summarize(mean = mean(Age, na.rm = TRUE),\n",
    "              sd = sd(Age, na.rm = TRUE),\n",
    "              median = median(Age, na.rm = TRUE),\n",
    "              min = min(Age, na.rm = TRUE),\n",
    "              max = max(Age, na.rm = TRUE))\n",
    "age_summary\n",
    "\n",
    "played_hours_summary <- players_tidy |>\n",
    "    summarize(mean = mean(played_hours, na.rm = TRUE),\n",
    "              sd = sd(played_hours, na.rm = TRUE),\n",
    "              median = median(played_hours, na.rm = TRUE),\n",
    "              min = min(played_hours, na.rm = TRUE),\n",
    "              max = max(played_hours, na.rm = TRUE))\n",
    "played_hours_summary"
   ]
  },
  {
   "cell_type": "markdown",
   "id": "e1f5afa5-f822-40a6-a980-7c3f5eea2346",
   "metadata": {},
   "source": [
    "#### Step 4: Exploratory Visualizations\n",
    "\n",
    "We'll explore some vizualisations to better understand our variables and their relationships with each other. \n",
    "\n",
    "* **Figure 1: `played_hours` distribution**\n",
    "\n",
    "The histogram below shows what we mentioned earlier about the pretty substantial inbalance in `played_hours` amongst players. A huge majority of players have single-digit and near 0 hours played. Included in the plot is the distinction between those who are subscirbed and those who aren't subscribed to a game-related newspaper. We can see that ,unsurprisingly, most of the those not subscribed have lower or no hours."
   ]
  },
  {
   "cell_type": "code",
   "execution_count": null,
   "id": "3b852aae-ab5e-42f2-95b7-863776de51e8",
   "metadata": {},
   "outputs": [],
   "source": [
    "options(repr.plot.height = 6, repr.plot.width = 10)\n",
    "\n",
    "player_hist <- players_tidy |>\n",
    "    ggplot(aes(x=played_hours, fill=subscribe)) +\n",
    "    geom_histogram(binwidth=10) +\n",
    "    labs(x='Played Hours (hours)',\n",
    "         y='Number of Players',\n",
    "         fill='Subscription Status',\n",
    "         title = 'Distribution of Played Hours (Figure 1)') +\n",
    "    theme(text = element_text(size = 15)) \n",
    "player_hist"
   ]
  },
  {
   "cell_type": "markdown",
   "id": "15606211-2275-48dc-98dc-6a978f8742f3",
   "metadata": {},
   "source": [
    "* **Figure 2: Distribution of `Age`**\n",
    "\n",
    "The histogram below shows us the distribution of the age of the players. We can see that most of our players are around their mid-teens to early twenties. There is no distinct pattern with how much of each group subscribes/isn't subscribed. "
   ]
  },
  {
   "cell_type": "code",
   "execution_count": null,
   "id": "fb753455-b791-4499-b53b-7b073e48918f",
   "metadata": {},
   "outputs": [],
   "source": [
    "options(repr.plot.height = 6, repr.plot.width = 10)\n",
    "\n",
    "age_hist <- players_tidy |>\n",
    "    ggplot(aes(x=Age, fill=subscribe)) +\n",
    "    geom_histogram(binwidth=5, alpha = 0.8) +\n",
    "    labs(x='Age',\n",
    "         y='Number of Players',\n",
    "         fill='Subscription Status',\n",
    "         title = 'Distribution of Age (Figure 2)') +\n",
    "    theme(text = element_text(size = 15)) \n",
    "age_hist"
   ]
  },
  {
   "cell_type": "markdown",
   "id": "244a5725-ff9f-4d9b-b849-36f750b24652",
   "metadata": {},
   "source": [
    "* **Figure 3: `played_hours` vs `Age` Scatterplot**\n",
    "\n",
    "Looking at the plot below, we can see that there is no clear linearity or dominant relationship between `Age` and `played_hours`. There is also no strong pattern of which observations are more likely to subscribe or not subscribe which is concerning. We see a peak around the mid-teens to early twenties where we have our highest played hours. But other than that most of observations have lower played hours which we mentioned in figure 1."
   ]
  },
  {
   "cell_type": "code",
   "execution_count": null,
   "id": "340b5bb8-a824-4ba3-93f3-c0e7f501a02c",
   "metadata": {},
   "outputs": [],
   "source": [
    "options(repr.plot.height = 6, repr.plot.width = 10)\n",
    "\n",
    "played_hours_vs_age <- players_tidy |>\n",
    "    ggplot(aes(x = Age, y = played_hours, color = subscribe)) +\n",
    "        geom_point(alpha = 0.7, size = 2) +\n",
    "        labs(title = \"Played hours vs Age Scatterplot (Figure 3)\",\n",
    "             color = \"Subscription\\nstatus\",\n",
    "             x = \"Age\",\n",
    "             y = \"Played hours (hours)\") +\n",
    "        theme(text = element_text(size = 15))\n",
    "played_hours_vs_age"
   ]
  },
  {
   "cell_type": "markdown",
   "id": "e273e002-edf7-44ea-8d9d-a6d48a3fc9fe",
   "metadata": {},
   "source": [
    "#### Step 5: Data Analysis\n",
    "\n",
    "The code below follows the following steps: \n",
    "* Set the seed to ensure reproduceability for the split and the vfold.\n",
    "* Split our data into a training and testing split so we can accurately assess our predictive model later (prop = 0.75).\n",
    "* Create a tibble containing the range different k-values to tune our KNN classification model.\n",
    "* Create vfold with v = 5 to gage best k-value.\n",
    "* Create temporary tuning KNN classification model.\n",
    "* Create recipe containing our variables and training data, scaling/centering variables along the way.\n",
    "* Combine using workflow along with `tune_grid`.\n",
    "* Collect metrics, plot accuracy, and get best k-value.\n",
    "\n",
    "The results show that the best k-value is k = 25 with an accuracy of 0.745...."
   ]
  },
  {
   "cell_type": "code",
   "execution_count": null,
   "id": "33488850-1cdf-43b3-9584-c438aeb69d56",
   "metadata": {},
   "outputs": [],
   "source": [
    "set.seed(23) \n",
    "\n",
    "players_split <- initial_split(players_tidy, prop = 0.75, strata = subscribe)\n",
    "players_train <- training(players_split)\n",
    "players_test <- testing(players_split)\n",
    "\n",
    "k_vals <- tibble(neighbors = c(1:40))\n",
    "\n",
    "knn_vfold <- vfold_cv(players_train, v = 5, strata = subscribe)\n",
    "\n",
    "knn_tune <- nearest_neighbor(weight_func = \"rectangular\", neighbors = tune()) |>\n",
    "  set_engine(\"kknn\") |>\n",
    "  set_mode(\"classification\")\n",
    "\n",
    "knn_recipe <- recipe(subscribe ~ Age + played_hours, data = players_train) |>\n",
    "    step_scale(all_predictors()) |>\n",
    "    step_center(all_predictors())\n",
    "\n",
    "knn_workflow <- workflow() |>\n",
    "    add_recipe(knn_recipe) |>\n",
    "    add_model(knn_tune) |>\n",
    "    tune_grid(resamples = knn_vfold, grid = k_vals)\n",
    "\n",
    "knn_metrics <- knn_workflow |>\n",
    "    collect_metrics() |>\n",
    "    filter(.metric == \"accuracy\") |>\n",
    "    arrange(desc(mean))\n",
    "knn_metrics\n",
    "\n",
    "cross_val_plot <- knn_metrics |>\n",
    "    ggplot(aes(x = neighbors, y = mean)) +\n",
    "        geom_point() +\n",
    "        geom_line() +\n",
    "        labs(title = \"Accuracy vs Number of Neighbors (Figure 4)\",\n",
    "             x = \"Nearest Neighbors (k)\",\n",
    "             y = \"Accuracy\") + \n",
    "        theme(text = element_text(size = 15))\n",
    "cross_val_plot\n",
    "\n",
    "best_k <- knn_metrics |>\n",
    "    arrange(desc(mean)) |>\n",
    "    select(neighbors) |>\n",
    "    slice(1) |>\n",
    "    pull()\n",
    "best_k"
   ]
  },
  {
   "cell_type": "markdown",
   "id": "3956e94c-52c0-4500-94db-d7691c0dbca3",
   "metadata": {},
   "source": [
    "Using the optimal k-value found earlier, we'll now train our new classifier model accordingly and assess its effectiveness.\n",
    "* Create new model spec with `best_k` as the k_value.\n",
    "* Combine model spec with our recipe and data.\n",
    "* Apply model onto test set and bind predictions.\n",
    "* Assess acccuracy and create confusion matrix for further analysis.\n",
    "\n",
    "Looking at our results, we can see that our overall accuracy is around 0.735. Now looking at the accuracy alone cannot accurately (see what I did there) describe the model's overall effectiveness. Looking at the confusion matrix, we'll see that our model had made no `FALSE` predictions which goes back to our concerns from figures 1-3."
   ]
  },
  {
   "cell_type": "code",
   "execution_count": null,
   "id": "08638b94-84f7-43e1-a59c-e6494f9e800e",
   "metadata": {},
   "outputs": [],
   "source": [
    "set.seed(23)\n",
    "\n",
    "best_k_model <- nearest_neighbor(weight_func = \"rectangular\", neighbors = best_k) |>\n",
    "    set_engine(\"kknn\") |>\n",
    "    set_mode(\"classification\")\n",
    "\n",
    "knn_workflow2 <- workflow() |>\n",
    "    add_recipe(knn_recipe) |>\n",
    "    add_model(best_k_model) |>\n",
    "    fit(data = players_train)\n",
    "\n",
    "player_test_pred <- knn_workflow2 |>\n",
    "    predict(players_test) |>\n",
    "    bind_cols(players_test) \n",
    "player_test_pred\n",
    "\n",
    "player_pred_accuracy <- player_test_pred |>\n",
    "    metrics(truth = subscribe, estimate = .pred_class) \n",
    "player_pred_accuracy\n",
    "\n",
    "players_pred_matrix <- player_test_pred |>\n",
    "        conf_mat(truth = subscribe, estimate = .pred_class)\n",
    "players_pred_matrix"
   ]
  },
  {
   "cell_type": "markdown",
   "id": "14489fd5-fd6e-46a8-8830-65e51220543f",
   "metadata": {},
   "source": [
    "#### Step 6: Visualizing Our Analysis\n",
    "\n",
    "To kinda visualize our analysis, we've created this visual (taken from the textbook). The colored regions represent the regions where our KNN classifier will predict `TRUE`."
   ]
  },
  {
   "cell_type": "code",
   "execution_count": null,
   "id": "62696946-671c-40d6-b08a-7d3f056ab3f2",
   "metadata": {},
   "outputs": [],
   "source": [
    "# create the grid of area/smoothness vals, and arrange in a data frame\n",
    "age_grid <- seq(min(players_tidy$Age),\n",
    "                max(players_tidy$Age),\n",
    "                length.out = 100)\n",
    "ph_grid <- seq(min(players_tidy$played_hours),\n",
    "                max(players_tidy$played_hours),\n",
    "                length.out = 100)\n",
    "asgrid <- as_tibble(expand.grid(Age = age_grid,\n",
    "                                played_hours = ph_grid))\n",
    "\n",
    "# use the fit workflow to make predictions at the grid points\n",
    "knnPredGrid <- predict(knn_workflow2, asgrid)\n",
    "\n",
    "# bind the predictions as a new column with the grid points\n",
    "prediction_table <- bind_cols(knnPredGrid, asgrid) |>\n",
    "  rename(subscribe = .pred_class)\n",
    "\n",
    "# plot:\n",
    "# 1. the colored scatter of the original data\n",
    "# 2. the faded colored scatter for the grid points\n",
    "wkflw_plot <-\n",
    "  ggplot() +\n",
    "  geom_point(data = players_tidy,\n",
    "             mapping = aes(x = Age,\n",
    "                           y = played_hours,\n",
    "                           color = subscribe),\n",
    "             alpha = 0.75) +\n",
    "  geom_point(data = prediction_table,\n",
    "             mapping = aes(x = Age,\n",
    "                           y = played_hours,\n",
    "                           color = subscribe),\n",
    "             alpha = 0.1,\n",
    "             size = 5) +\n",
    "  labs(color = \"Subscription Status\",\n",
    "       x = \"Age\",\n",
    "       y = \"Played Hours (hours)\",\n",
    "       title = \"Played hours vs Age Scatterplot (Figure 5)\") +\n",
    "  scale_color_manual(values = c(\"darkorange\", \"steelblue\")) +\n",
    "  theme(text = element_text(size = 15)) + \n",
    "\n",
    "wkflw_plot"
   ]
  },
  {
   "cell_type": "markdown",
   "id": "b599e489-e31b-4e5f-ab6b-a12bb1e77da7",
   "metadata": {},
   "source": [
    "### Summary of Results (Accuracy):\n",
    "\n",
    "1. **Accuracy for the full dataset (all players): 0.617** (61.7%)\n",
    "\n",
    "2. **Accuracy or male players: 0.75** (75%)\n",
    "\n",
    "3. **Accuracy for gender-diverse players: 0.77** (77%)\n",
    "\n",
    "### Interpretation:\n",
    "- The model performs reasonably well for the full dataset with an accuracy of 61.7%.\n",
    "- The model performs better for male players, achieving an accuracy of 75%.\n",
    "- The model works best for gender-diverse players, with an accuracy of 77%. This suggests that the model is more accurate at predicting subscription behavior for gender-diverse players compared to male players."
   ]
  },
  {
   "cell_type": "markdown",
   "id": "30baa3b8-b6a8-4ccc-aad9-0669eba5d14f",
   "metadata": {},
   "source": [
    "5.creates a visualization of the analysis\n"
   ]
  },
  {
   "cell_type": "code",
   "execution_count": null,
   "id": "5645e354-ea13-48ee-9d1b-3ea728fbb8e7",
   "metadata": {},
   "outputs": [],
   "source": [
    "options(repr.plot.height = 6, repr.plot.width = 10)\n",
    "# Combine all player data for the plot\n",
    "players_full <- players |>\n",
    "  select(subscribe, played_hours, gender) |>\n",
    "  filter(gender != 'Prefer not to say') |>\n",
    "  mutate(gender = if_else(gender == \"Male\", \"male\", \"gender_diverse\")) |>\n",
    "  mutate(subscribe = as.factor(subscribe))\n",
    "\n",
    "# Create a histogram for all players\n",
    "ggplot(players_full, aes(x = played_hours, fill = subscribe)) +\n",
    "  geom_histogram(binwidth = 10, position = \"dodge\") +\n",
    "  labs(\n",
    "    title = \"Distribution of Played Hours by Subscription Status(Figure 5)\",\n",
    "    x = \"Played Hours\",\n",
    "    y = \"Number of Players\",\n",
    "    fill = \"Subscribed\"\n",
    "  ) +\n",
    "  theme_minimal() +\n",
    "  facet_wrap(~gender, scales = \"free\") \n"
   ]
  },
  {
   "cell_type": "markdown",
   "id": "2291c470-881f-469a-afae-e86411a524f9",
   "metadata": {},
   "source": [
    "### Explanation:\n",
    "- **`geom_histogram()`**: Creates the histogram, where `binwidth` specifies the width of each bar in the histogram.\n",
    "- **`position = \"dodge\"`**: This separates the bars for players who subscribed and those who did not.\n",
    "- **`facet_wrap(~gender)`**: This creates separate histograms for male and gender-diverse players, allowing for easy comparison between the groups.\n",
    "- **`labs()`**: Adds titles and axis labels to the plot.\n",
    "\n",
    "This visualization will help us see how the distribution of played hours differs between subscribed and non-subscribed players and also how this pattern might vary between male and gender-diverse players."
   ]
  },
  {
   "cell_type": "markdown",
   "id": "11a90fa1-bbaa-47e4-9a7a-1399ca439a28",
   "metadata": {},
   "source": [
    "## Discussion\n",
    "\n",
    "### Summary of Findings:\n",
    "The KNN models trained on different groups of players showed that total played hours is an important factor in predicting whether a player subscribes to a game-related newsletter. Players who spend more time playing the game are more likely to subscribe to the newsletter. This trend was observed in both male and gender-diverse players, though the model's performance varied across these groups.\n",
    "\n",
    "- **For all players (combined):** The model had an accuracy of 61.7%. This suggests that total played hours can provide a moderate prediction of subscription likelihood across the full player base.\n",
    "- **For male players:** The accuracy was 75%, indicating that played hours are an important predictor, but the model's performance is more reliable for male players than for the full dataset.\n",
    "- **For gender-diverse players:** The accuracy was 77%, suggesting that played hours are a particularly strong predictor for this group. Gender-diverse players might have a clearer connection between their in-game time and subscription behavior compared to male players.\n",
    "\n",
    "### Is this what you expected to find?\n",
    "\n",
    "- **Expected Outcomes**: We thought that total played hours would be an important factor for predicting newsletter subscriptions because players who play more may want to get more information, like newsletters. This fits with our expectations, as time spent in the game likely shows an interest in staying informed about game updates, events, and other content.\n",
    "  \n",
    "- **Unexpected Outcomes**: The difference in model performance between male and gender-diverse players was surprising. We thought played hours would be useful for both groups, but the model did better for gender-diverse players. This means that their behavior in the game might match their subscription choices more clearly. It also shows that gender might affect not just the chance of subscribing but also how players react to game marketing. This could depend on their interests, gaming habits, or how much they engage with the game community.\n",
    "\n",
    "The lower accuracy for male players suggests that there are other factors—possibly not in this dataset—that influence their decision to subscribe to newsletters. It may also mean that male players’ subscription behavior is less linked to in-game hours, or that including other features (like experience or age) would improve the model for this group.\n",
    "\n",
    "In conclusion, the analysis showed that played hours is an important predictor for newsletter subscriptions, but it works better for gender-diverse players. This means that while played hours are helpful, exploring more features and improving the model (especially for male players) could make predictions more accurate for all players. Gender differences in how played hours predict subscription behavior could also be interesting to study further, as they may help us understand player behavior and improve marketing strategies.\n",
    "\n",
    "### What impact could such findings have?\n",
    "\n",
    "Our findings and results emphasize how crucial it is to take gender diversity into consideration when developing predictive models for user behavior analysis:\n",
    "\n",
    "**Targeted Marketing Strategies:** Since we have shown that subscription behaviour is more predictable for gender-diverse and male players, companies can use this insight to create effective advertisements aimed at these players without over-targeting or overlooking certain groups.\n",
    "\n",
    "**Gaming Product Design:** Game developers can explore why gender-diverse and male users like their game and newsletter and then use those discoveries to create more inclusive, engaging game features.\n",
    "\n",
    "**Encourages Inclusive Data Science Methods:** Our research highlights the importance of including a wide range of demographics groups when collecting data in order to gain a more complete picture of user behaviour.\n",
    "\n",
    "**Discovering Hidden Model Biases:** The discrepancy between our overall accuracy (61.7%), male-only accuracy (75%), and gender-diverse accuracy (77%) demonstrates that certain subgroups may underperform or excel with specific models. This shows that data analysis should always involve subgroup analysis when evaluating accuracy of a given model.\n",
    "\n",
    "### What future questions could this lead to?\n",
    "\n",
    "Our findings and results open the door to a variety of thought-provoking questions that require further analysis to answer such as:\n",
    "\n",
    "1. Why is the subscription predictive accuracy so low for the complete dataset? If we used models for each subgroup of gender, would all of them produce greater accuracies?\n",
    "\n",
    "2. What reasons do different genders value the game and newsletter for? Is it the actual content of the game? Are certain genders more likely to develop an emotional connection? For instance, some players may feel a stronger emotional attachment because of the inclusivity and representation in the game and the community. Are certain genders more likely to rely on the newsletter or external sources for updates on the game?\n",
    "\n",
    "3. How might other factors and their interactions with gender affect subscription predictability? For example, what would change if we also used experience or age as predictors?\n",
    "\n",
    "4. How would our results change in larger datasets or different types of games?\n"
   ]
  }
 ],
 "metadata": {
  "kernelspec": {
   "display_name": "R",
   "language": "R",
   "name": "ir"
  },
  "language_info": {
   "codemirror_mode": "r",
   "file_extension": ".r",
   "mimetype": "text/x-r-source",
   "name": "R",
   "pygments_lexer": "r",
   "version": "4.3.3"
  }
 },
 "nbformat": 4,
 "nbformat_minor": 5
}
