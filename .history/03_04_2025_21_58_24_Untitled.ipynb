{
 "cells": [
  {
   "cell_type": "markdown",
   "id": "738de7cb-c409-4404-ac92-7297f635ea55",
   "metadata": {},
   "source": [
    "# Playing Time Influenced by Gender as a Predictor for Game Newsletter Subscription\n",
    "\n",
    "**Question 1 (General):** What player characteristics and behaviours are most predictive of subscribing to a game-related newsletter, and how do these features differ between various player types?\n",
    "\n",
    "**Specific Interpretation:** What is the relationship between total played hours and subscription class of a player? How does a player’s gender strengthen or weaken the predictive ability of average session time for subscription class?\n",
    "\n",
    "To answer this question, we use the following variables:\n",
    "1. `played hours`: the number of hours a player has logged on the server.\n",
    "2. `subscribe`: a binary classification that flags whether a player subscribes to a game-related newsletter.\n",
    "3. `gender`: a qualitative variable. For simplicity, we use a binary flag where one flag is male and the other is gender-diverse, which is an umbrella term that we will apply here to include women, non-binary people, two-spirit people, agender people, and those who responded 'other' in the survey. We will exclude those who answer 'prefer not to say'.\n",
    "\n",
    "\n",
    "\n",
    "To explore the impacts of gender on the predictive ability of `played hours`, we will filter for males and gender-diverse players and retrain the model to explore changes in skill and the classification patterns that form. Therefore we will end up training 3 different models: one with all genders included, and two that are filtered by gender.\n",
    "\n",
    "Introduction:\n",
    "provide some relevant background information on the topic so that someone unfamiliar with it will be prepared to understand the rest of your report\n",
    "clearly state the question you tried to answer with your project\n",
    "identify and fully describe the dataset that was used to answer the question"
   ]
  },
  {
   "cell_type": "code",
   "execution_count": null,
   "id": "0be66cea-951c-4914-a1ea-2e3d62a41807",
   "metadata": {},
   "outputs": [],
   "source": [
    "library(tidyverse)"
   ]
  },
  {
   "cell_type": "code",
   "execution_count": null,
   "id": "a1b09d50-67a6-4eba-b92b-7800d868bdca",
   "metadata": {},
   "outputs": [],
   "source": [
    "players <- read_csv('https://raw.githubusercontent.com/kathleenramsey/dsci100_group23/main/Project%20Planning%20Players.csv')\n",
    "players"
   ]
  }
 ],
 "metadata": {
  "kernelspec": {
   "display_name": "R",
   "language": "R",
   "name": "ir"
  },
  "language_info": {
   "codemirror_mode": "r",
   "file_extension": ".r",
   "mimetype": "text/x-r-source",
   "name": "R",
   "pygments_lexer": "r",
   "version": "4.3.3"
  }
 },
 "nbformat": 4,
 "nbformat_minor": 5
}
