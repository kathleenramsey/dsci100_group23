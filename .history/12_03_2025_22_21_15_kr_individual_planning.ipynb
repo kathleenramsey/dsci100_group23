{
 "cells": [
  {
   "cell_type": "markdown",
   "id": "7e0cf191-94c1-44cd-8ecc-083f06ab3ca6",
   "metadata": {},
   "source": [
    "# Project Planning Stage (Individual)\n",
    "**Kathleen Ramsey, #15274780**"
   ]
  },
  {
   "cell_type": "code",
   "execution_count": null,
   "id": "b76286c0-211a-4e66-9f5c-87a7349d22fd",
   "metadata": {},
   "outputs": [],
   "source": [
    "library(tidyverse)"
   ]
  },
  {
   "cell_type": "code",
   "execution_count": null,
   "id": "19556f51-30af-467c-8cf1-3659c40c8574",
   "metadata": {},
   "outputs": [],
   "source": [
    "players <- read_csv('players.csv')\n",
    "players"
   ]
  },
  {
   "cell_type": "markdown",
   "id": "c4996e63-4660-4471-bfcc-38fd311bb992",
   "metadata": {},
   "source": [
    "## The 'players' Dataset\n",
    "\n",
    "This dataset has 196 observations and 7 variables. There is one NA value in the dataset. There are many players with a played_hours value of 0, which could be an issue for some analysis. Some of this data (such as player personal information) would have been self-reported, and some (such as playing time) would have been observed. If responses from people playing on the server was voluntary, there could be a form of response bias present in the data \n",
    "\n",
    "### Variables\n",
    "1. **experience** (ordered categorical, chr): Amateur, Regular, Pro, or Veteran. This represents how much play experience a player has.\n",
    "2. **subscribe** (categorical, lgl): TRUE or FALSE. Whether or not a player subscribes to a game-related newsletter.\n",
    "3. **hashedEmail** (categorical, chr): a unique hashcode for each player representing a their email. This variable identifies unique players, since the first name of all players will likely not be unique.\n",
    "4. **played_hours** (quantative, dbl): how many cumulative hours of playtime does a player have?\n",
    "5. **name** (categorical, chr): a player's first name\n",
    "6. **gender** (categorical, chr): a player's gender identity\n",
    "7. **Age** (quantitative, dbl): the age in years of a player."
   ]
  },
  {
   "cell_type": "markdown",
   "id": "495922e2-c533-48ed-93b5-94ba87a202f9",
   "metadata": {
    "scrolled": true
   },
   "source": [
    "**Question 1 (General):** What player characteristics and behaviours are most predictive of subscribing to a game-related newsletter, and how do these features differ between various player types?\n",
    "\n",
    "**Specific Interpretation:** What is the relationship between total played hours and subscription class of a player? How does a player’s age, gender, and experience strengthen or weaken the predictive ability of average session time for subscription class?\n",
    "\n",
    "The `players.csv` dataset has the variables `played_hours` and `subscribe`. `played_hours` will be used as the predictive variable for the binary classification `subscribe` in a standard knn classification scheme. Then, to explore the impacts of experience on the predictive ability of `played hours`, we will filter for each of the four experience levels in `experience` and retrain the model to explore changes in skill and the classification patterns that form. Therefore we will end up training 5 different models: one with all experience levels included, and four filtered for particular levels."
   ]
  },
  {
   "cell_type": "markdown",
   "id": "c87f3082-6e55-435b-aa0e-2a62e2f52107",
   "metadata": {},
   "source": [
    "Demonstrate that the dataset can be loaded into R.\n",
    "Do the minimum necessary wrangling to turn your data into a tidy format. Do not do any additional wrangling here; that will happen later during the group project phase.\n",
    "Compute the mean value for each quantitative variable in the players.csv data set. Report the mean values in a table format.\n",
    "Make a few exploratory visualizations of the data to help you understand it.\n",
    "Use our visualization best practices to make high-quality plots (make sure to include labels, titles, units of measurement, etc)\n",
    "Explain any insights you gain from these plots that are relevant to address your question"
   ]
  },
  {
   "cell_type": "code",
   "execution_count": null,
   "id": "d00ea471-2d45-4770-9eb2-a4d35c8bae1f",
   "metadata": {},
   "outputs": [],
   "source": [
    "players <- read_csv('players.csv')\n",
    "players"
   ]
  },
  {
   "cell_type": "code",
   "execution_count": null,
   "id": "44fc7518-035d-43e2-a175-3f4699868b4d",
   "metadata": {},
   "outputs": [],
   "source": [
    "player_means <- players |>\n",
    "    select(played_hours, Age) |>\n",
    "    map_df(mean, na.rm=TRUE)\n",
    "\n",
    "player_means"
   ]
  },
  {
   "cell_type": "code",
   "execution_count": null,
   "id": "e82d172d-ac85-45f0-9240-9ea2ff2708c2",
   "metadata": {},
   "outputs": [],
   "source": [
    "options(repr.plot.height = 6, repr.plot.width = 10)\n",
    "\n",
    "player_age_exp <- players |>\n",
    "    ggplot(aes(x=played_hours, fill=gender)) +\n",
    "    geom_histogram(binwidth=1) +\n",
    "    labs(x='player age', y='number of players', fill='player experience level') +\n",
    "    theme(text = element_text(size = 18))\n",
    "\n",
    "player_age_exp"
   ]
  },
  {
   "cell_type": "code",
   "execution_count": null,
   "id": "f260a9b6-6b60-4b11-85ca-b09e5b17c087",
   "metadata": {},
   "outputs": [],
   "source": [
    "options(repr.plot.height = 6, repr.plot.width = 10)\n",
    "\n",
    "player_hist <- players |>\n",
    "    ggplot(aes(x=played_hours, fill=subscribe)) +\n",
    "    geom_histogram(binwidth=5) +\n",
    "    labs(x='total play time (hours)', y='number of players', fill='subscribed to newsletter') +\n",
    "    theme(text = element_text(size = 18))\n",
    "\n",
    "player_hist"
   ]
  },
  {
   "cell_type": "code",
   "execution_count": null,
   "id": "29f7beb9-9a41-4e85-8a58-dfe1d159cf06",
   "metadata": {},
   "outputs": [],
   "source": [
    "options(repr.plot.height = 6, repr.plot.width = 10)\n",
    "\n",
    "player_age_exp <- players |>\n",
    "    ggplot(aes(x=played_hours, y=experience)) +\n",
    "    geom_bar(stat='identity') +\n",
    "    labs(x='sum of all played hours', y='player experience') +\n",
    "    theme(text = element_text(size = 18))\n",
    "\n",
    "player_age_exp"
   ]
  },
  {
   "cell_type": "markdown",
   "id": "b224beb0-c069-433c-a76b-34963e883a39",
   "metadata": {},
   "source": [
    "Propose one method to address your question of interest using the selected dataset and explain why it was chosen. Do not perform any modelling or present results at this stage. We are looking for high-level planning regarding model choice and justifying that choice.\n",
    "\n",
    "In your explanation, respond to the following questions:\n",
    "\n",
    "Why is this method appropriate?\n",
    "Which assumptions are required, if any, to apply the method selected?\n",
    "What are the potential limitations or weaknesses of the method selected?\n",
    "How are you going to compare and select the model?\n",
    "How are you going to process the data to apply the model? For example: Are you splitting the data? How? How many splits? What proportions will you use for the splits? At what stage will you split? Will there be a validation set? Will you use cross validation?\n",
    "\n",
    "**Proposed Method**\n",
    "\n",
    "First, we will investigate the skill of a KNN classifier using all available playing time data points from all experience levels. We will train, validate, and test this model"
   ]
  },
  {
   "cell_type": "code",
   "execution_count": null,
   "id": "b064599f-4343-44d2-bc27-f1d0d3f946c9",
   "metadata": {},
   "outputs": [],
   "source": []
  }
 ],
 "metadata": {
  "kernelspec": {
   "display_name": "R",
   "language": "R",
   "name": "ir"
  },
  "language_info": {
   "codemirror_mode": "r",
   "file_extension": ".r",
   "mimetype": "text/x-r-source",
   "name": "R",
   "pygments_lexer": "r",
   "version": "4.3.3"
  }
 },
 "nbformat": 4,
 "nbformat_minor": 5
}
