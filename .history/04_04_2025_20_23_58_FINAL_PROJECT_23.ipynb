{
 "cells": [
  {
   "cell_type": "markdown",
   "id": "738de7cb-c409-4404-ac92-7297f635ea55",
   "metadata": {},
   "source": [
    "# Playing Time Influenced by Gender as a Predictor for Game Newsletter Subscription\n",
    "### Group 23\n",
    "\n",
    "**Background:** \n",
    "\n",
    "Online games increasingly use newsletter subscriptions to enhance user engagement and market new features. Understanding what motivates players to subscribe can help improve marketing and tailor experiences to different player types.\n",
    "\n",
    "**Question 1 (General):** \n",
    "\n",
    "What player characteristics and behaviours are most predictive of subscribing to a game-related newsletter, and how do these features differ between various player types?\n",
    "\n",
    "**Specific Interpretation:** \n",
    "\n",
    "What is the relationship between total played hours and subscription class of a player? How does a player’s gender strengthen or weaken the predictive ability of average session time for subscription class?\n",
    "\n",
    "**Dataset Overview**\n",
    "\n",
    "To answer this question, we will use the players.csv file. The `players` dataset includes 196 observations and 7 variables describing player demographic information. The dataset size is sufficient for meaningful predictive modeling. The variables are given below.\n",
    "\n",
    "| Variable | Type | Description |\n",
    "|--------|----|-----------|\n",
    "| `experience` | character | Player's skill level |\n",
    "| `subscribe` | logical | Indicates whether player subscribed to a game-related newsletter |\n",
    "| `hashedEmail` |character | Unique identifier for each player (hashed) |\n",
    "| `played_hours` | numeric | The total hours the player has played |\n",
    "| `name` | character | Player's name |\n",
    "| `gender` | character | Gender |\n",
    "| `Age` | numeric | Player's age |\n",
    "\n",
    "Some brief summary statistics of the quantitative variables in the `players` dataset:\n",
    "|  | `played_hours` | `Age` |\n",
    "| ---- | ---- | ---- |\n",
    "| count | 196 | 194 |\n",
    "| mean | 5.845918 | 20.52062 |\n",
    "| min | 0 | 8 | \n",
    "| max | 223.1 | 50 | \n",
    "\n",
    "Some issues in the dataset are listed here:\n",
    "* There might be some subjective inconsistencies with `experience` if it was self-reported.\n",
    "* `Age` has 2 missing values.\n",
    "* `experience` and `gender` should be factor variables.\n",
    "* Distribution imbalances in variables like `subscribed`, `gender`, and `Age`.\n",
    "\n",
    "Response variable:\n",
    "* `subscribe`: Inidcates whether a player is subscribed to a game-related newsletter or not and is what we aim to predict.\n",
    "\n",
    "Explanatory variables:\n",
    "\n",
    "* `played hours`: In-game engagement time likely impacts the likelihood of players seeking out more game-information on newsletters.\n",
    "* `gender`: For simplicity, we use a binary flag where one flag is male and the other is gender-diverse, which is an umbrella term that we will apply here to include women, non-binary people, two-spirit people, agender people, and those who responded 'other' in the survey. We will exclude those who answer 'prefer not to say'. We are interested on the possible effects this variable might have on the predictive capabilities of `played hours` on `subscribe` (If there is any).\n",
    "\n",
    "To explore the impacts of gender on the predictive ability of `played hours`, we will start by training a classifier including data from all players. `played_hours` will be used as the predictive variable for the binary classification `subscribe` in a standard knn classification scheme. Then, we will split the data into two groups: one comprised of only male players, and one comprised of only gender diverse players. We will train one new classifier on each. This will leave us with three classifiers which we can then directly compare the skill of using standard classification metrics. "
   ]
  },
  {
   "cell_type": "code",
   "execution_count": null,
   "id": "0be66cea-951c-4914-a1ea-2e3d62a41807",
   "metadata": {},
   "outputs": [],
   "source": [
    "library(tidyverse)\n",
    "library(repr)\n",
    "library(tidymodels)\n",
    "library(RColorBrewer)\n",
    "options(repr.matrix.max.rows = 6)"
   ]
  },
  {
   "cell_type": "code",
   "execution_count": null,
   "id": "a1b09d50-67a6-4eba-b92b-7800d868bdca",
   "metadata": {},
   "outputs": [],
   "source": [
    "players <- read_csv('https://raw.githubusercontent.com/kathleenramsey/dsci100_group23/main/Project%20Planning%20Players.csv')\n",
    "players"
   ]
  },
  {
   "cell_type": "code",
   "execution_count": null,
   "id": "ed388a87-f928-49f1-8189-6fb609664c17",
   "metadata": {},
   "outputs": [],
   "source": [
    "players_full <- players |>\n",
    "    select(subscribe, played_hours, gender) |>\n",
    "    filter(gender != 'Prefer not to say') |>\n",
    "    mutate(gender = if_else(gender == \"Male\", \"male\", \"gender_diverse\")) |>\n",
    "    mutate(subscribe = as.factor(subscribe))\n",
    "\n",
    "players_male <- players |>\n",
    "    select(subscribe, played_hours, gender) |>\n",
    "    filter(gender == 'Male') |>\n",
    "    mutate(subscribe = as.factor(subscribe))\n",
    "\n",
    "players_gd <- players |>\n",
    "    select(subscribe, played_hours, gender) |>\n",
    "    filter(gender != 'Male', gender != 'Prefer not to say') |>\n",
    "    mutate(subscribe = as.factor(subscribe))"
   ]
  },
  {
   "cell_type": "code",
   "execution_count": null,
   "id": "3b852aae-ab5e-42f2-95b7-863776de51e8",
   "metadata": {},
   "outputs": [],
   "source": [
    "options(repr.plot.height = 6, repr.plot.width = 10)\n",
    "\n",
    "prop_sub <- players_full |>\n",
    "  summarise(prop_subscribed = mean(subscribe == TRUE)) |>\n",
    "    pull()\n",
    "\n",
    "player_hist <- players_full |>\n",
    "    ggplot(aes(x=played_hours, fill=subscribe)) +\n",
    "    geom_histogram(binwidth=10) +\n",
    "    labs(x='cumulative individual play time (hours)', y='number of players', fill='subscribed to newsletter') +\n",
    "    theme(text = element_text(size = 18)) +\n",
    "    ggtitle(paste0(\"proportion of subscribed players: \", round(prop_sub * 100, 1), '%'))\n",
    "\n",
    "player_hist"
   ]
  },
  {
   "cell_type": "code",
   "execution_count": null,
   "id": "fb753455-b791-4499-b53b-7b073e48918f",
   "metadata": {},
   "outputs": [],
   "source": [
    "options(repr.plot.height = 6, repr.plot.width = 10)\n",
    "\n",
    "player_genders <- players_full |>\n",
    "    ggplot(aes(x=gender, fill=gender)) +\n",
    "    geom_bar(stat='count') +\n",
    "    labs(x='player gender', y='number of players', fill='player gender') +\n",
    "    theme(text = element_text(size = 18)) +\n",
    "    scale_color_brewer(palette = \"Set2\")\n",
    "\n",
    "\n",
    "player_genders"
   ]
  },
  {
   "cell_type": "markdown",
   "id": "e273e002-edf7-44ea-8d9d-a6d48a3fc9fe",
   "metadata": {},
   "source": [
    "2. Make training/testing splits. Train one classifier on data with all genders, choose optimum k"
   ]
  },
  {
   "cell_type": "code",
   "execution_count": null,
   "id": "33488850-1cdf-43b3-9584-c438aeb69d56",
   "metadata": {},
   "outputs": [],
   "source": [
    "# refer to worksheets/tutorials on classification ???\n",
    "# use a CV (probably 4-fold) to do training/validation only on the players_full set, not the split sets\n",
    "# i don't think that the split sets have enough data points to do a good train/test split and still get reliable results from CV\n",
    "# so if we can find a k value with just the full set we can use that k value for the split sets too.\n",
    "\n",
    "set.seed(23) \n",
    "\n",
    "full_split <- initial_split(players_full, prop = 0.75, strata = subscribe)\n",
    "full_train <- training(full_split)\n",
    "full_test <- testing(full_split)\n",
    "\n",
    "k_vals <- tibble(neighbors = c(2:40))\n",
    "knn_vfold <- vfold_cv(full_train, v = 4, strata = subscribe)\n",
    "\n",
    "knn_tune <- nearest_neighbor(weight_func = \"rectangular\", neighbors = tune()) |>\n",
    "  set_engine(\"kknn\") |>\n",
    "  set_mode(\"classification\")\n",
    "\n",
    "knn_recipe <- recipe(subscribe ~ played_hours, data = full_train)\n",
    "\n",
    "knn_workflow <- workflow() |>\n",
    "    add_recipe(knn_recipe) |>\n",
    "    add_model(knn_tune)\n",
    "\n",
    "knn_results <- tune_grid(\n",
    "    knn_workflow,\n",
    "    resamples = knn_vfold,\n",
    "    grid = k_vals\n",
    ")\n",
    "\n",
    "knn_metrics <- knn_results |>\n",
    "    collect_metrics() |>\n",
    "    filter(.metric == \"accuracy\")\n",
    "\n",
    "cross_val_plot <- knn_metrics |>\n",
    "    ggplot(aes(x = neighbors, y = mean)) +\n",
    "    geom_point() +\n",
    "    geom_line() +\n",
    "    labs(title = \"accuracy vs. number of neighbors\",\n",
    "         x = \"nearest neighbors (k)\",\n",
    "         y = \"accuracy\")\n",
    "\n",
    "print(cross_val_plot)"
   ]
  },
  {
   "cell_type": "markdown",
   "id": "3956e94c-52c0-4500-94db-d7691c0dbca3",
   "metadata": {},
   "source": [
    "3. Using the optimal k found earlier, train classifiers on split data"
   ]
  },
  {
   "cell_type": "code",
   "execution_count": null,
   "id": "08638b94-84f7-43e1-a59c-e6494f9e800e",
   "metadata": {},
   "outputs": [],
   "source": [
    "set.seed(23)\n",
    "\n",
    "best_k <- 32\n",
    "\n",
    "knn_model2 <- nearest_neighbor(weight_func = \"rectangular\", neighbors = best_k) |>\n",
    "  set_engine(\"kknn\") |>\n",
    "  set_mode(\"classification\")\n",
    "\n",
    "\n",
    "knn_workflow2 <- workflow() |>\n",
    "  add_recipe(knn_recipe) |>\n",
    "  add_model(knn_model)\n",
    "\n",
    "knn_fit <- fit(knn_workflow, data = full_train)"
   ]
  },
  {
   "cell_type": "markdown",
   "id": "47035d07-02e4-471f-bca2-97ed72765b78",
   "metadata": {},
   "source": [
    "4. Evaluate classifiers, gather skill metrics, compare and discuss"
   ]
  },
  {
   "cell_type": "code",
   "execution_count": null,
   "id": "489a427c-c210-46da-84cb-a2462a02c010",
   "metadata": {},
   "outputs": [],
   "source": [
    "# this is kind of discussion territory but we can see how the flow of the analysis goes\n",
    "knn_preds <- predict(knn_fit, new_data = full_test)\n",
    "\n",
    "knn_results <- bind_cols(knn_preds, full_test)\n",
    "\n",
    "knn_metrics <- knn_results |>\n",
    "  metrics(truth = subscribe, estimate = .pred_class)|>\n",
    "  filter(.metric==\"accuracy\")\n",
    "\n",
    "print(knn_metrics)\n"
   ]
  },
  {
   "cell_type": "code",
   "execution_count": null,
   "id": "dc9c3df9-21a2-4b5b-a513-84c7deae41e8",
   "metadata": {},
   "outputs": [],
   "source": [
    "# Train KNN model for male players and make predictions for male players in the test set\n",
    "knn_fit_male <- knn_workflow |>\n",
    "  fit(data = players_male)\n",
    "\n",
    "knn_preds_male <- predict(knn_fit_male, new_data = full_test %>% filter(gender == \"male\"))\n",
    "\n",
    "knn_results_male <- bind_cols(knn_preds_male, full_test %>% filter(gender == \"male\"))\n",
    "\n",
    "# Calculate evaluation metrics for male players\n",
    "knn_metrics_male <- knn_results_male |>\n",
    "  metrics(truth = subscribe, estimate = .pred_class)|>\n",
    "  filter(.metric==\"accuracy\")\n",
    "\n",
    "print(knn_metrics_male)"
   ]
  },
  {
   "cell_type": "code",
   "execution_count": null,
   "id": "aac82a5b-7360-4a72-9363-0fed26c13517",
   "metadata": {},
   "outputs": [],
   "source": [
    "# Train the KNN model for gender-diverse players and make predictions for gender-diverse players in the test set\n",
    "knn_fit_gd <- knn_workflow |>\n",
    "  fit(data = players_gd)\n",
    "\n",
    "knn_preds_gd <- predict(knn_fit_gd, new_data = full_test %>% filter(gender == \"gender_diverse\"))\n",
    "\n",
    "knn_results_gd <- bind_cols(knn_preds_gd, full_test %>% filter(gender == \"gender_diverse\"))\n",
    "\n",
    "# Calculate evaluation metrics for gender-diverse players\n",
    "knn_metrics_gd <- knn_results_gd |>\n",
    "  metrics(truth = subscribe, estimate = .pred_class)|>\n",
    "  filter(.metric==\"accuracy\")\n",
    "\n",
    "print(knn_metrics_gd)"
   ]
  },
  {
   "cell_type": "markdown",
   "id": "b599e489-e31b-4e5f-ab6b-a12bb1e77da7",
   "metadata": {},
   "source": [
    "### Summary of Results (Accuracy):\n",
    "\n",
    "1. **For the full dataset (all players):**\n",
    "   - Accuracy: **0.677** (67.7%)\n",
    "\n",
    "2. **For male players:**\n",
    "   - Accuracy: **0.677** (67.7%)\n",
    "\n",
    "3. **For gender-diverse players:**\n",
    "   - Accuracy: **0.875** (87.5%)\n",
    "\n",
    "### Interpretation:\n",
    "- The model works the same for the full dataset and male players (67.7% accuracy).\n",
    "- The model works better for gender-diverse players, with an accuracy of 87.5%. This means the model can predict subscription behavior more accurately for gender-diverse players than for male players."
   ]
  },
  {
   "cell_type": "markdown",
   "id": "30baa3b8-b6a8-4ccc-aad9-0669eba5d14f",
   "metadata": {},
   "source": [
    "5.creates a visualization of the analysis\n"
   ]
  },
  {
   "cell_type": "code",
   "execution_count": null,
   "id": "5645e354-ea13-48ee-9d1b-3ea728fbb8e7",
   "metadata": {},
   "outputs": [],
   "source": [
    "options(repr.plot.height = 6, repr.plot.width = 10)\n",
    "# Combine all player data for the plot\n",
    "players_full <- players |>\n",
    "  select(subscribe, played_hours, gender) |>\n",
    "  filter(gender != 'Prefer not to say') |>\n",
    "  mutate(gender = if_else(gender == \"Male\", \"male\", \"gender_diverse\")) |>\n",
    "  mutate(subscribe = as.factor(subscribe))\n",
    "\n",
    "# Create a histogram for all players\n",
    "ggplot(players_full, aes(x = played_hours, fill = subscribe)) +\n",
    "  geom_histogram(binwidth = 10, position = \"dodge\") +\n",
    "  labs(\n",
    "    title = \"Distribution of Played Hours by Subscription Status\",\n",
    "    x = \"Played Hours\",\n",
    "    y = \"Number of Players\",\n",
    "    fill = \"Subscribed\"\n",
    "  ) +\n",
    "  theme_minimal() +\n",
    "  facet_wrap(~gender, scales = \"free\") \n"
   ]
  },
  {
   "cell_type": "markdown",
   "id": "2291c470-881f-469a-afae-e86411a524f9",
   "metadata": {},
   "source": [
    "### Explanation:\n",
    "- **`geom_histogram()`**: Creates the histogram, where `binwidth` specifies the width of each bar in the histogram.\n",
    "- **`position = \"dodge\"`**: This separates the bars for players who subscribed and those who did not.\n",
    "- **`facet_wrap(~gender)`**: This creates separate histograms for male and gender-diverse players, allowing for easy comparison between the groups.\n",
    "- **`labs()`**: Adds titles and axis labels to the plot.\n",
    "\n",
    "This visualization will help us see how the distribution of played hours differs between subscribed and non-subscribed players and also how this pattern might vary between male and gender-diverse players."
   ]
  },
  {
   "cell_type": "markdown",
   "id": "11a90fa1-bbaa-47e4-9a7a-1399ca439a28",
   "metadata": {},
   "source": [
    "## Discussion\n",
    "\n",
    "### Summary of Findings:\n",
    "\n",
    "The KNN models trained on different groups of players showed that total played hours is an important factor in predicting whether a player subscribes to a game-related newsletter. Players who spend more time playing the game are more likely to subscribe to the newsletter. This was true for both male and gender-diverse players, though there was a difference in model performance.\n",
    "- **For all players (combined)**: The model had an accuracy of 74.5%. This means that played hours can give a good prediction of subscription likelihood.\n",
    "- **For male players**: The accuracy was 67.7%, showing that while played hours are still important, the model is less reliable for predicting subscriptions in male players.\n",
    "- **For gender-diverse players**: The accuracy was 87.5%, suggesting that played hours are a stronger predictor for this group. Gender-diverse players may have a clearer relationship between their in-game time and subscription behavior.\n",
    "\n",
    "### Discussion: Is this what you expected to find?\n",
    "\n",
    "- **Expected Outcomes**: We thought that total played hours would be an important factor for predicting newsletter subscriptions because players who play more may want to get more information, like newsletters. This fits with our expectations, as time spent in the game likely shows an interest in staying informed about game updates, events, and other content.\n",
    "  \n",
    "- **Unexpected Outcomes**: The difference in model performance between male and gender-diverse players was surprising. We thought played hours would be useful for both groups, but the model did better for gender-diverse players. This means that their behavior in the game might match their subscription choices more clearly. It also shows that gender might affect not just the chance of subscribing but also how players react to game marketing. This could depend on their interests, gaming habits, or how much they engage with the game community.\n",
    "\n",
    "The lower accuracy for male players suggests that there are other factors—possibly not in this dataset—that influence their decision to subscribe to newsletters. It may also mean that male players’ subscription behavior is less linked to in-game hours, or that including other features (like experience or age) would improve the model for this group.\n",
    "\n",
    "In conclusion, the analysis showed that played hours is an important predictor for newsletter subscriptions, but it works better for gender-diverse players. This means that while played hours are helpful, exploring more features and improving the model (especially for male players) could make predictions more accurate for all players. Gender differences in how played hours predict subscription behavior could also be interesting to study further, as they may help us understand player behavior and improve marketing strategies."
   ]
  },
  {
   "cell_type": "code",
   "execution_count": null,
   "id": "21b8000d-a31a-4dc1-8827-9f79d039dc3b",
   "metadata": {},
   "outputs": [],
   "source": []
  }
 ],
 "metadata": {
  "kernelspec": {
   "display_name": "R",
   "language": "R",
   "name": "ir"
  },
  "language_info": {
   "codemirror_mode": "r",
   "file_extension": ".r",
   "mimetype": "text/x-r-source",
   "name": "R",
   "pygments_lexer": "r",
   "version": "4.3.3"
  }
 },
 "nbformat": 4,
 "nbformat_minor": 5
}
