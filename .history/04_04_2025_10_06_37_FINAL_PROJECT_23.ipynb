{
 "cells": [
  {
   "cell_type": "markdown",
   "id": "738de7cb-c409-4404-ac92-7297f635ea55",
   "metadata": {},
   "source": [
    "# Playing Time Influenced by Gender as a Predictor for Game Newsletter Subscription\n",
    "\n",
    "**Question 1 (General):** What player characteristics and behaviours are most predictive of subscribing to a game-related newsletter, and how do these features differ between various player types?\n",
    "\n",
    "**Specific Interpretation:** What is the relationship between total played hours and subscription class of a player? How does a player’s gender strengthen or weaken the predictive ability of average session time for subscription class?\n",
    "\n",
    "To answer this question, we use the following variables:\n",
    "1. `played hours`: the number of hours a player has logged on the server.\n",
    "2. `subscribe`: a binary classification that flags whether a player subscribes to a game-related newsletter.\n",
    "3. `gender`: a qualitative variable. For simplicity, we use a binary flag where one flag is male and the other is gender-diverse, which is an umbrella term that we will apply here to include women, non-binary people, two-spirit people, agender people, and those who responded 'other' in the survey. We will exclude those who answer 'prefer not to say'.\n",
    "\n",
    "To explore the impacts of gender on the predictive ability of `played hours`, we will start by training a classifier including data from all players. `played_hours` will be used as the predictive variable for the binary classification `subscribe` in a standard knn classification scheme. Then, we will split the data into two groups: one comprised of only male players, and one comprised of only gender diverse players. We will train one new classifier on each. This will leave us with three classifiers which we can then directly compare the skill of using standard classification metrics. "
   ]
  },
  {
   "cell_type": "code",
   "execution_count": null,
   "id": "0be66cea-951c-4914-a1ea-2e3d62a41807",
   "metadata": {},
   "outputs": [],
   "source": [
    "library(tidyverse)\n",
    "library(tidymodels)\n",
    "library(repr)"
   ]
  },
  {
   "cell_type": "code",
   "execution_count": null,
   "id": "a1b09d50-67a6-4eba-b92b-7800d868bdca",
   "metadata": {},
   "outputs": [],
   "source": [
    "players <- read_csv('https://raw.githubusercontent.com/kathleenramsey/dsci100_group23/main/Project%20Planning%20Players.csv')\n",
    "players"
   ]
  },
  {
   "cell_type": "code",
   "execution_count": null,
   "id": "ed388a87-f928-49f1-8189-6fb609664c17",
   "metadata": {},
   "outputs": [],
   "source": [
    "players_full <- players |>\n",
    "    select(subscribe, played_hours, gender) |>\n",
    "    filter(gender != 'Prefer not to say') |>\n",
    "    mutate(gender = if_else(gender == \"Male\", \"male\", \"gender_diverse\")) |>\n",
    "    mutate(subscribe = as.factor(subscribe))\n",
    "\n",
    "players_male <- players |>\n",
    "    select(subscribe, played_hours, gender) |>\n",
    "    filter(gender == 'Male') |>\n",
    "    mutate(subscribe = as.factor(subscribe))\n",
    "\n",
    "players_gd <- players |>\n",
    "    select(subscribe, played_hours, gender) |>\n",
    "    filter(gender != 'Male', gender != 'Prefer not to say') |>\n",
    "    mutate(subscribe = as.factor(subscribe))"
   ]
  },
  {
   "cell_type": "code",
   "execution_count": null,
   "id": "3b852aae-ab5e-42f2-95b7-863776de51e8",
   "metadata": {},
   "outputs": [],
   "source": [
    "options(repr.plot.height = 6, repr.plot.width = 10)\n",
    "\n",
    "prop_sub <- players_full |>\n",
    "  summarise(prop_subscribed = mean(subscribe == TRUE)) |>\n",
    "    pull()\n",
    "\n",
    "player_hist <- players_full |>\n",
    "    ggplot(aes(x=played_hours, fill=subscribe)) +\n",
    "    geom_histogram(binwidth=10) +\n",
    "    labs(x='cumulative individual play time (hours)', y='number of players', fill='subscribed to newsletter') +\n",
    "    theme(text = element_text(size = 18)) +\n",
    "    ggtitle('proportion of subscribed players: ', round(prop * 100, 1), '%')\n",
    "\n",
    "player_hist"
   ]
  },
  {
   "cell_type": "code",
   "execution_count": null,
   "id": "fb753455-b791-4499-b53b-7b073e48918f",
   "metadata": {},
   "outputs": [],
   "source": [
    "options(repr.plot.height = 6, repr.plot.width = 10)\n",
    "\n",
    "player_genders <- players_full |>\n",
    "    ggplot(aes(x=gender, fill=gender)) +\n",
    "    geom_bar(stat='count') +\n",
    "    labs(x='player gender', y='number of players', fill='player gender') +\n",
    "    theme(text = element_text(size = 18)) +\n",
    "    scale_color_brewer(palette = \"Set2\")\n",
    "\n",
    "\n",
    "player_genders"
   ]
  },
  {
   "cell_type": "markdown",
   "id": "e273e002-edf7-44ea-8d9d-a6d48a3fc9fe",
   "metadata": {},
   "source": [
    "2. Make training/testing splits. Train one classifier on data with all genders, choose optimum k"
   ]
  },
  {
   "cell_type": "code",
   "execution_count": null,
   "id": "33488850-1cdf-43b3-9584-c438aeb69d56",
   "metadata": {},
   "outputs": [],
   "source": [
    "# refer to worksheets/tutorials on classification ???\n",
    "# use a CV (probably 4-fold) to do training/validation only on the players_full set, not the split sets\n",
    "# i don't think that the split sets have enough data points to do a good train/test split and still get reliable results from CV\n",
    "# so if we can find a k value with just the full set we can use that k value for the split sets too.\n",
    "\n",
    "set.seed(23) \n",
    "\n",
    "full_split <- initial_split(players_full, prop = 0.75, strata = subscribe)\n",
    "full_train <- training(full_split)\n",
    "full_test <- testing(full_split)\n",
    "\n",
    "k_vals <- tibble(neighbors = c(80:100))\n",
    "knn_vfold <- vfold_cv(full_train, v = 4, strata = subscribe)\n",
    "\n",
    "knn_tune <- nearest_neighbor(weight_func = \"rectangular\", neighbors = tune()) |>\n",
    "  set_engine(\"kknn\") |>\n",
    "  set_mode(\"classification\")\n",
    "\n",
    "knn_recipe <- recipe(subscribe ~ played_hours, data = full_train)\n",
    "\n",
    "knn_workflow <- workflow() |>\n",
    "    add_recipe(knn_recipe) |>\n",
    "    add_model(knn_tune)\n",
    "\n",
    "knn_results <- tune_grid(\n",
    "    knn_workflow,\n",
    "    resamples = knn_vfold,\n",
    "    grid = k_vals\n",
    ")\n",
    "\n",
    "knn_metrics <- knn_results |>\n",
    "    collect_metrics() |>\n",
    "    filter(.metric == \"accuracy\")\n",
    "\n",
    "cross_val_plot <- knn_metrics |>\n",
    "    ggplot(aes(x = neighbors, y = mean)) +\n",
    "    geom_point() +\n",
    "    geom_line() +\n",
    "    labs(title = \"accuracy vs. number of neighbors\",\n",
    "         x = \"nearest neighbors (k)\",\n",
    "         y = \"accuracy\")\n",
    "\n",
    "print(cross_val_plot)"
   ]
  },
  {
   "cell_type": "markdown",
   "id": "3956e94c-52c0-4500-94db-d7691c0dbca3",
   "metadata": {},
   "source": [
    "3. Using the optimal k found earlier, train classifiers on split data"
   ]
  },
  {
   "cell_type": "code",
   "execution_count": null,
   "id": "08638b94-84f7-43e1-a59c-e6494f9e800e",
   "metadata": {},
   "outputs": [],
   "source": []
  },
  {
   "cell_type": "markdown",
   "id": "47035d07-02e4-471f-bca2-97ed72765b78",
   "metadata": {},
   "source": [
    "4. Evaluate classifiers, gather skill metrics, compare and discuss"
   ]
  },
  {
   "cell_type": "code",
   "execution_count": null,
   "id": "489a427c-c210-46da-84cb-a2462a02c010",
   "metadata": {},
   "outputs": [],
   "source": [
    "# this is kind of discussion territory but we can see how the flow of the analysis goes"
   ]
  }
 ],
 "metadata": {
  "kernelspec": {
   "display_name": "R",
   "language": "R",
   "name": "ir"
  },
  "language_info": {
   "codemirror_mode": "r",
   "file_extension": ".r",
   "mimetype": "text/x-r-source",
   "name": "R",
   "pygments_lexer": "r",
   "version": "4.3.3"
  }
 },
 "nbformat": 4,
 "nbformat_minor": 5
}
