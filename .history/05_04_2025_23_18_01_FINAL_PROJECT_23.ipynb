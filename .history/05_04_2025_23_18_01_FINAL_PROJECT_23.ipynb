{
 "cells": [
  {
   "cell_type": "markdown",
   "id": "738de7cb-c409-4404-ac92-7297f635ea55",
   "metadata": {},
   "source": [
    "# Playing Time Influenced by Gender as a Predictor for Game Newsletter Subscription\n",
    "By Group 23 (Aayush, Kathleen, QingYou, Gordon) "
   ]
  },
  {
   "cell_type": "markdown",
   "id": "b8171436-a5df-43a8-97b0-f25e2d41b139",
   "metadata": {},
   "source": [
    "## Introduction\n",
    "#### Background:\n",
    "\n",
    "Minecraft, the best-selling video game of all time, is a widely acclaimed action-adventure title first released in 2009. It's a game that is very accessable and popular amongst people of all demogrpahics. With over 300 million downloads, it has secured a significant place in gaming history. Due to minecrafts appeal, a study was conducted and funded by the Pacific Laboratory for Artificial Intelligence (PLAI), utilizing Minecraft’s broad popularity to explore gamer behavior. The research uses data collected through PLAICraft, a publicly accessible Minecraft server that runs directly in users' browsers, requiring no prior ownership of the game. Before joining the server, users complete a survey, which provides the datasets used in this project's analysis.\n",
    "\n",
    "Online games increasingly rely on newsletter subscriptions as a tool to boost user engagement, communicate updates, and promote new features. Understanding what motivates players to subscribe provides valuable insights for developers and marketers aiming to tailor experiences to diverse player types. Given Minecraft’s massive reach and cultural impact, it serves as a compelling case study for this kind of behavioral analysis. Through PLAICraft, a browser-based Minecraft server created by the Pacific Laboratory for Artificial Intelligence (PLAI), researchers were able to collect detailed player data via a pre-game survey. This unique setup offers an ideal opportunity to examine patterns in subscription behavior across a broad and varied gaming audience. By analyzing these patterns, this study aims to uncover which player characteristics—such as gender, age, or play style—are most predictive of newsletter subscription.\n",
    "#### Question\n",
    "\n",
    "**General Question:**\n",
    "\n",
    "What player characteristics and behaviours are most predictive of subscribing to a game-related newsletter, and how do these features differ between various player types? (Question 1)\n",
    "\n",
    "**Specific Interpretation:**\n",
    "\n",
    "What is the relationship between total played hours and subscription class of a player? How does a player’s gender strengthen or weaken the predictive ability of average session time for subscription class?\n",
    "\n",
    "#### Dataset Overview\n",
    "\n",
    "To answer this question, we will use the players.csv file. The `players` dataset includes 196 observations and 7 variables describing player demographic information. The dataset size is sufficient for meaningful predictive modeling. The variables are given below.\n",
    "\n",
    "| Variable | Type | Description |\n",
    "|--------|----|-----------|\n",
    "| `experience` | character | Player's skill level |\n",
    "| `subscribe` | logical | Indicates whether player subscribed to a game-related newsletter |\n",
    "| `hashedEmail` |character | Unique identifier for each player (hashed) |\n",
    "| `played_hours` | numeric | The total hours the player has played |\n",
    "| `name` | character | Player's name |\n",
    "| `gender` | character | Gender |\n",
    "| `Age` | numeric | Player's age |\n",
    "\n",
    "Some brief summary statistics of the quantitative variables in the `players` dataset:\n",
    "| Statistic | `played_hours` | `Age` |\n",
    "| ---- | ---- | ---- |\n",
    "| count | 196 | 194 |\n",
    "| mean | 5.845918 | 20.52062 |\n",
    "| median | 0.1 | 6.174667 |\n",
    "| standard deviation | 28.35734 | 19 |\n",
    "| min | 0 | 8 | \n",
    "| max | 223.1 | 50 | \n",
    "\n",
    "Some issues in the dataset are listed here:\n",
    "* There might be some subjective inconsistencies with `experience` if it was self-reported.\n",
    "* `Age` has 2 missing values.\n",
    "* `experience` and `gender` should be factor variables.\n",
    "* Distribution imbalances in variables like `subscribed`, `gender`, and `Age`.\n",
    "\n",
    "Response variable:\n",
    "* `subscribe`: Inidcates whether a player is subscribed to a game-related newsletter or not and is what we aim to predict.\n",
    "\n",
    "Explanatory variables:\n",
    "\n",
    "* `played hours`: In-game engagement time likely impacts the likelihood of players seeking out more game-information on newsletters.\n",
    "* `gender`: For simplicity, we use a binary flag where one flag is male and the other is gender-diverse, which is an umbrella term that we will apply here to include women, non-binary people, two-spirit people, agender people, and those who responded 'other' in the survey. We will exclude those who answer 'prefer not to say'. We are interested on the possible effects this variable might have on the predictive capabilities of `played hours` on `subscribe` (If there is any)."
   ]
  },
  {
   "cell_type": "markdown",
   "id": "2bdd66bc-7405-4aec-bd76-74f8acccc4fe",
   "metadata": {},
   "source": [
    "## Methods and Results\n",
    "\n",
    "To explore the impacts of gender on the predictive ability of `played hours`, we will start by training a classifier including data from all players. `played_hours` will be used as the predictive variable for the binary classification `subscribe` in a standard knn classification scheme. Then, we will split the data into two groups: one comprised of only male players, and one comprised of only gender diverse players. We will train one new classifier on each. This will leave us with three classifiers which we can then directly compare the skill of using standard classification metrics. \n",
    "\n",
    "#### Loading and Wrangling of Data\n",
    "\n",
    "Getting necessary libraries and reading in players.csv dataset: "
   ]
  },
  {
   "cell_type": "code",
   "execution_count": null,
   "id": "0be66cea-951c-4914-a1ea-2e3d62a41807",
   "metadata": {},
   "outputs": [],
   "source": [
    "library(tidyverse)\n",
    "library(repr)\n",
    "library(tidymodels)\n",
    "library(RColorBrewer)\n",
    "options(repr.matrix.max.rows = 6)"
   ]
  },
  {
   "cell_type": "code",
   "execution_count": null,
   "id": "a1b09d50-67a6-4eba-b92b-7800d868bdca",
   "metadata": {},
   "outputs": [],
   "source": [
    "players <- read_csv('https://raw.githubusercontent.com/kathleenramsey/dsci100_group23/main/Project%20Planning%20Players.csv')\n",
    "players"
   ]
  },
  {
   "cell_type": "markdown",
   "id": "a91f2c50-6987-4057-90e6-b5a499408ab4",
   "metadata": {},
   "source": [
    "Below we are creating three datasets (for our three models) from the original players dataset. \n",
    "1. The first dataset (players_full) has those who haven't specified a gender filtered out. `gender` variable modified, with \"male\" representing males and \"gender diverse\" representing female, non-binary, two-spirited, etc.\n",
    "2. The second dataset (players_male) contains only males.\n",
    "3. The third contains (players_gd) contains all listed genders except for males.\n",
    "4. Each dataset only contains `played_hours`, `gender`, (explanatory) and `subscribe` (response) columns. Additionally, `subscribe` is converted into a factor variable for all three as well."
   ]
  },
  {
   "cell_type": "code",
   "execution_count": null,
   "id": "ed388a87-f928-49f1-8189-6fb609664c17",
   "metadata": {},
   "outputs": [],
   "source": [
    "players_full <- players |>\n",
    "    select(subscribe, played_hours, gender) |>\n",
    "    filter(gender != 'Prefer not to say') |>\n",
    "    mutate(gender = if_else(gender == \"Male\", \"male\", \"gender diverse\")) |>\n",
    "    mutate(subscribe = as.factor(subscribe))\n",
    "\n",
    "players_male <- players |>\n",
    "    select(subscribe, played_hours, gender) |>\n",
    "    filter(gender == 'Male') |>\n",
    "    mutate(subscribe = as.factor(subscribe))\n",
    "\n",
    "players_gd <- players |>\n",
    "    select(subscribe, played_hours, gender) |>\n",
    "    filter(gender != 'Male', gender != 'Prefer not to say') |>\n",
    "    mutate(subscribe = as.factor(subscribe))"
   ]
  },
  {
   "cell_type": "markdown",
   "id": "42091262-c43e-4940-acc8-9f46ccd84e9f",
   "metadata": {},
   "source": [
    "### Relevant Statistics\n",
    "\n",
    "Below we are getting some statistics on the variables from our players_full dataset we will use for our analysis. We can see roughly 3/4 of the players are subscribed to a game-related newspaper. More than half of our players are male and that there is a clear inbalance in `played_hours` as seen with the median."
   ]
  },
  {
   "cell_type": "code",
   "execution_count": null,
   "id": "0470a760-08fd-4d6d-a6e6-62f416d10470",
   "metadata": {},
   "outputs": [],
   "source": [
    "`subscription_%` <- players_full |>\n",
    "    group_by(subscribe) |>\n",
    "    summarize(count = n()) |>\n",
    "    mutate(percentage = (count / sum(count)) * 100)\n",
    "`subscription_%`\n",
    "\n",
    "`gender_%` <- players_full |>\n",
    "    group_by(gender) |>\n",
    "    summarize(count = n()) |>\n",
    "    mutate(percentage = (count / sum(count)) * 100)\n",
    "`gender_%`\n",
    "\n",
    "played_hours_summary <- players_full |>\n",
    "    select(played_hours) |>\n",
    "    summarize(mean = mean(played_hours, na.rm = TRUE),\n",
    "              sd = sd(played_hours, na.rm = TRUE),\n",
    "              median = median(played_hours, na.rm = TRUE),\n",
    "              min = min(played_hours, na.rm = TRUE),\n",
    "              max = max(played_hours, na.rm = TRUE))\n",
    "played_hours_summary"
   ]
  },
  {
   "cell_type": "markdown",
   "id": "e1f5afa5-f822-40a6-a980-7c3f5eea2346",
   "metadata": {},
   "source": [
    "### Visualizations\n",
    "\n",
    "We'll explore some vizualisations to better understand our variables and their relationships with each other. \n",
    "\n",
    "**Figure 1: Play time distribution**\n",
    "\n",
    "The histogram below shows what we mentioned earlier about the pretty substantial inbalance in `played_hours` amongst players. A huge majority of players have single-digit and near 0 hours played. Included in the plot is the distinction between those who are subscirbed and those who aren't subscribed to a game-related newspaper. We can see that ,unsurprisingly, most of the those not subscribed have lower or no hours."
   ]
  },
  {
   "cell_type": "code",
   "execution_count": null,
   "id": "3b852aae-ab5e-42f2-95b7-863776de51e8",
   "metadata": {},
   "outputs": [],
   "source": [
    "options(repr.plot.height = 6, repr.plot.width = 10)\n",
    "\n",
    "player_hist <- players_full |>\n",
    "    ggplot(aes(x=played_hours, fill=subscribe)) +\n",
    "    geom_histogram(binwidth=10) +\n",
    "    labs(x='Play time (hours)',\n",
    "         y='Number of players',\n",
    "         fill='Subscribed to\\ngame-related newsletter',\n",
    "         title = 'Distribution of play time (Figure 1)') +\n",
    "    theme(text = element_text(size = 15)) +\n",
    "    scale_fill_brewer(palette = \"Set2\")\n",
    "player_hist"
   ]
  },
  {
   "cell_type": "markdown",
   "id": "15606211-2275-48dc-98dc-6a978f8742f3",
   "metadata": {},
   "source": [
    "**Figure 2: Distribution of gender groups (gender diverse and male)**\n",
    "\n",
    "The bar graph below shows how much of males and gender diverse players there are. There are over half male players than there are of other genders. "
   ]
  },
  {
   "cell_type": "code",
   "execution_count": null,
   "id": "fb753455-b791-4499-b53b-7b073e48918f",
   "metadata": {},
   "outputs": [],
   "source": [
    "options(repr.plot.height = 6, repr.plot.width = 10)\n",
    "\n",
    "gender_dist <- players_full |>\n",
    "    ggplot(aes(x = gender, fill = gender)) +\n",
    "    geom_bar(stat= 'count') +\n",
    "    labs(x = 'Player gender', \n",
    "         y = 'Number of players', \n",
    "         fill = 'Player gender',\n",
    "         title = 'Distribution of gender diverse/male (Figure 2)') +\n",
    "    theme(text = element_text(size = 15)) +\n",
    "    scale_fill_brewer(palette = \"Set2\")\n",
    "gender_dist"
   ]
  },
  {
   "cell_type": "markdown",
   "id": "244a5725-ff9f-4d9b-b849-36f750b24652",
   "metadata": {},
   "source": [
    "**Figure 3: Subscription rate of gender groups (gender diverse and male)**\n",
    "\n",
    "The bar graph below shows the rate of subscription for male players and players of other genders. We made the plot by converting the `subscribe` variable into a numerical (0/1) and used `mean()` to calculate the `subscribe_rate`. We can see that the rate at which gender diverse players subscribe are slightly higher (approx. 0.02) than the subscription rate of male players. This bar shows taht while the amount of gender diverse players are lesser, the rate of subscribing to a game related newsletter is much higher. "
   ]
  },
  {
   "cell_type": "code",
   "execution_count": null,
   "id": "340b5bb8-a824-4ba3-93f3-c0e7f501a02c",
   "metadata": {},
   "outputs": [],
   "source": [
    "options(repr.plot.height = 6, repr.plot.width = 10)\n",
    "\n",
    "subscription_bar <- players_full |>\n",
    "    mutate(subscribe = as.numeric(if_else(subscribe == \"TRUE\", TRUE, FALSE))) |>\n",
    "    group_by(gender) |>\n",
    "    summarize(subscribe_rate = mean(subscribe, na.rm = TRUE)) |>\n",
    "    ggplot(aes(x = gender, y = subscribe_rate)) +\n",
    "        geom_bar(stat = \"identity\", fill = \"orange\", alpha = 0.7) +\n",
    "        labs(title = \"Subscription rate of gender diverse/male (Figure 3)\",\n",
    "             x = \"Gender\",\n",
    "             y = \"Subscription rate\") +\n",
    "        theme(text = element_text(size = 15))\n",
    "subscription_bar"
   ]
  },
  {
   "cell_type": "markdown",
   "id": "e273e002-edf7-44ea-8d9d-a6d48a3fc9fe",
   "metadata": {},
   "source": [
    "### Data Analysis\n",
    "Make training/testing splits. Train one classifier on data with all genders, choose optimum k"
   ]
  },
  {
   "cell_type": "code",
   "execution_count": null,
   "id": "33488850-1cdf-43b3-9584-c438aeb69d56",
   "metadata": {},
   "outputs": [],
   "source": [
    "# refer to worksheets/tutorials on classification ???\n",
    "# use a CV (probably 4-fold) to do training/validation only on the players_full set, not the split sets\n",
    "# i don't think that the split sets have enough data points to do a good train/test split and still get reliable results from CV\n",
    "# so if we can find a k value with just the full set we can use that k value for the split sets too.\n",
    "\n",
    "set.seed(23) \n",
    "\n",
    "full_split <- initial_split(players_full, prop = 0.75, strata = subscribe)\n",
    "full_train <- training(full_split)\n",
    "full_test <- testing(full_split)\n",
    "\n",
    "k_vals <- tibble(neighbors = c(2:40))\n",
    "knn_vfold <- vfold_cv(full_train, v = 4, strata = subscribe)\n",
    "\n",
    "knn_tune <- nearest_neighbor(weight_func = \"rectangular\", neighbors = tune()) |>\n",
    "  set_engine(\"kknn\") |>\n",
    "  set_mode(\"classification\")\n",
    "\n",
    "knn_recipe <- recipe(subscribe ~ played_hours, data = full_train)\n",
    "\n",
    "knn_workflow <- workflow() |>\n",
    "    add_recipe(knn_recipe) |>\n",
    "    add_model(knn_tune)\n",
    "\n",
    "knn_results <- tune_grid(\n",
    "    knn_workflow,\n",
    "    resamples = knn_vfold,\n",
    "    grid = k_vals\n",
    ")\n",
    "\n",
    "knn_metrics <- knn_results |>\n",
    "    collect_metrics() |>\n",
    "    filter(.metric == \"accuracy\")\n",
    "\n",
    "cross_val_plot <- knn_metrics |>\n",
    "    ggplot(aes(x = neighbors, y = mean)) +\n",
    "    geom_point() +\n",
    "    geom_line() +\n",
    "    labs(title = \"accuracy vs. number of neighbors((Figure 4)\",\n",
    "         x = \"nearest neighbors (k)\",\n",
    "         y = \"accuracy\")\n",
    "\n",
    "print(cross_val_plot)"
   ]
  },
  {
   "cell_type": "markdown",
   "id": "fde5f64f-e082-4965-9ee0-75f8bebb43d1",
   "metadata": {},
   "source": [
    "Figure 4 shows that the best k we can choose is between 30-40."
   ]
  },
  {
   "cell_type": "markdown",
   "id": "3956e94c-52c0-4500-94db-d7691c0dbca3",
   "metadata": {},
   "source": [
    "3. Using the optimal k found earlier, train classifiers on split data"
   ]
  },
  {
   "cell_type": "code",
   "execution_count": null,
   "id": "08638b94-84f7-43e1-a59c-e6494f9e800e",
   "metadata": {},
   "outputs": [],
   "source": [
    "set.seed(23)\n",
    "\n",
    "best_k <- 32\n",
    "\n",
    "knn_model2 <- nearest_neighbor(weight_func = \"rectangular\", neighbors = best_k) |>\n",
    "  set_engine(\"kknn\") |>\n",
    "  set_mode(\"classification\")\n",
    "\n",
    "\n",
    "knn_workflow2 <- workflow() |>\n",
    "  add_recipe(knn_recipe) |>\n",
    "  add_model(knn_model2)\n",
    "\n",
    "knn_fit <- fit(knn_workflow2, data = full_train)"
   ]
  },
  {
   "cell_type": "markdown",
   "id": "14489fd5-fd6e-46a8-8830-65e51220543f",
   "metadata": {},
   "source": [
    "To build our final classification model, we used the K-Nearest Neighbors (KNN) algorithm with the optimal number of neighbors set to 32. This value was chosen because earlier cross-validation results showed that values of k between 32 and 40 produced the same accuracy. We set the KNN model to use rectangular weighting, meaning each of the nearest neighbors contributes equally to the classification decision. The model was then combined with a preprocessing recipe in a workflow to ensure the data is processed the same way each time the model is trained or used for prediction. Finally, we trained this workflow on the full training dataset so the model could learn the relationship between a player’s total played hours and their likelihood of subscribing to the newsletter. This trained model is used to evaluate prediction accuracy and explore how player characteristics, like gender, affect model performance."
   ]
  },
  {
   "cell_type": "markdown",
   "id": "47035d07-02e4-471f-bca2-97ed72765b78",
   "metadata": {},
   "source": [
    "4. Evaluate classifiers, gather skill metrics, compare and discuss"
   ]
  },
  {
   "cell_type": "code",
   "execution_count": null,
   "id": "489a427c-c210-46da-84cb-a2462a02c010",
   "metadata": {},
   "outputs": [],
   "source": [
    "# this is kind of discussion territory but we can see how the flow of the analysis goes\n",
    "knn_preds <- predict(knn_fit, new_data = full_test)\n",
    "\n",
    "knn_results <- bind_cols(knn_preds, full_test)\n",
    "\n",
    "knn_metrics <- knn_results |>\n",
    "  metrics(truth = subscribe, estimate = .pred_class)|>\n",
    "  filter(.metric==\"accuracy\")\n",
    "\n",
    "print(knn_metrics)\n"
   ]
  },
  {
   "cell_type": "markdown",
   "id": "b98faab4-2cb0-471b-aa6b-e3b4b43a340b",
   "metadata": {},
   "source": [
    "First, we use the `predict` function to make predictions using the trained KNN model (`knn_fit`) on the full test data (`full_test`). These predictions are stored in `knn_preds`. Then, we combine the predictions (`knn_preds`) with the actual test data (`full_test`) using `bind_cols`, creating the `knn_results` dataset.\n",
    "\n",
    "Next, we calculate the evaluation metrics for the KNN model by using the `metrics` function. We specify that the true values are in the `subscribe` column and the predicted values are in the `.pred_class` column. We filter the results to only include the accuracy metric by using `filter(.metric == \"accuracy\")`.\n",
    "\n",
    "Finally, we print the accuracy of the KNN model using `print(knn_metrics)`."
   ]
  },
  {
   "cell_type": "code",
   "execution_count": null,
   "id": "dc9c3df9-21a2-4b5b-a513-84c7deae41e8",
   "metadata": {},
   "outputs": [],
   "source": [
    "# Train KNN model for male players and make predictions for male players in the test set\n",
    "knn_fit_male <- knn_workflow2 |>\n",
    "  fit(data = players_male)\n",
    "\n",
    "knn_preds_male <- predict(knn_fit_male, new_data = players_male)\n",
    "\n",
    "knn_results_male <- bind_cols(knn_preds_male, players_male)\n",
    "\n",
    "# Calculate evaluation metrics for male players\n",
    "knn_metrics_male <- knn_results_male |>\n",
    "  metrics(truth = subscribe, estimate = .pred_class)|>\n",
    "  filter(.metric==\"accuracy\")\n",
    "\n",
    "print(knn_metrics_male)"
   ]
  },
  {
   "cell_type": "markdown",
   "id": "2b837220-232c-4ed3-8cd4-fa10e2279318",
   "metadata": {},
   "source": [
    "We train the KNN model specifically for male players by using `knn_workflow2` and applying it to the `players_male` dataset. The trained model is stored in `knn_fit_male`.Then we use this model (`knn_fit_male`) to make predictions for the male players in the test set. We filter the `full_test` dataset to only include male players, then pass this filtered data to the `predict` function. The predictions are stored in `knn_preds_male`.\n",
    "After that, we combine the predictions (`knn_preds_male`) with the corresponding actual test data for male players using `bind_cols`, creating the `knn_results_male` dataset.We then calculate the evaluation metrics for the KNN model on male players by using the `metrics` function. We specify that the true values are in the `subscribe` column and the predicted values are in the `.pred_class` column. We filter the results to only include the accuracy metric using `filter(.metric == \"accuracy\")`.Finally, we print the accuracy of the KNN model for male players using `print(knn_metrics_male)`."
   ]
  },
  {
   "cell_type": "code",
   "execution_count": null,
   "id": "aac82a5b-7360-4a72-9363-0fed26c13517",
   "metadata": {},
   "outputs": [],
   "source": [
    "# Train the KNN model for gender-diverse players and make predictions for gender-diverse players in the test set\n",
    "knn_fit_gd <- knn_workflow2 |>\n",
    "  fit(data = players_gd)\n",
    "\n",
    "knn_preds_gd <- predict(knn_fit_gd, new_data = players_gd)\n",
    "\n",
    "knn_results_gd <- bind_cols(knn_preds_gd, players_gd)\n",
    "\n",
    "# Calculate evaluation metrics for gender-diverse players\n",
    "knn_metrics_gd <- knn_results_gd |>\n",
    "  metrics(truth = subscribe, estimate = .pred_class)|>\n",
    "  filter(.metric==\"accuracy\")\n",
    "\n",
    "print(knn_metrics_gd)"
   ]
  },
  {
   "cell_type": "markdown",
   "id": "79d91c31-2bc6-493c-be35-c57b9ede717e",
   "metadata": {},
   "source": [
    "In this step, we train the KNN model specifically for gender-diverse players by using `knn_workflow2` and applying it to the `players_gd` dataset. The trained model is stored in `knn_fit_gd`.\n",
    "\n",
    "Next, we use this model (`knn_fit_gd`) to make predictions for gender-diverse players in the test set. We filter the `full_test` dataset to only include gender-diverse players, then pass this filtered data to the `predict` function. The predictions are stored in `knn_preds_gd`.\n",
    "\n",
    "After that, we combine the predictions (`knn_preds_gd`) with the corresponding actual test data for gender-diverse players using `bind_cols`, creating the `knn_results_gd` dataset.\n",
    "\n",
    "We then calculate the evaluation metrics for the KNN model on gender-diverse players by using the `metrics` function. We specify that the true values are in the `subscribe` column and the predicted values are in the `.pred_class` column. We filter the results to only include the accuracy metric using `filter(.metric == \"accuracy\")`.\n",
    "\n",
    "Finally, we print the accuracy of the KNN model for gender-diverse players using `print(knn_metrics_gd)`.\n",
    "\n",
    "This process is similar to the steps followed for male players, where we trained the model for male players, made predictions, and evaluated accuracy. Here, we are doing the same for gender-diverse players, ensuring that the model performance is evaluated for different player groups."
   ]
  },
  {
   "cell_type": "markdown",
   "id": "b599e489-e31b-4e5f-ab6b-a12bb1e77da7",
   "metadata": {},
   "source": [
    "### Summary of Results (Accuracy):\n",
    "\n",
    "1. **Accuracy for the full dataset (all players): 0.617** (61.7%)\n",
    "\n",
    "2. **Accuracy or male players: 0.75** (75%)\n",
    "\n",
    "3. **Accuracy for gender-diverse players: 0.77** (77%)\n",
    "\n",
    "### Interpretation:\n",
    "- The model performs reasonably well for the full dataset with an accuracy of 61.7%.\n",
    "- The model performs better for male players, achieving an accuracy of 75%.\n",
    "- The model works best for gender-diverse players, with an accuracy of 77%. This suggests that the model is more accurate at predicting subscription behavior for gender-diverse players compared to male players."
   ]
  },
  {
   "cell_type": "markdown",
   "id": "30baa3b8-b6a8-4ccc-aad9-0669eba5d14f",
   "metadata": {},
   "source": [
    "5.creates a visualization of the analysis\n"
   ]
  },
  {
   "cell_type": "code",
   "execution_count": null,
   "id": "5645e354-ea13-48ee-9d1b-3ea728fbb8e7",
   "metadata": {},
   "outputs": [],
   "source": [
    "options(repr.plot.height = 6, repr.plot.width = 10)\n",
    "# Combine all player data for the plot\n",
    "players_full <- players |>\n",
    "  select(subscribe, played_hours, gender) |>\n",
    "  filter(gender != 'Prefer not to say') |>\n",
    "  mutate(gender = if_else(gender == \"Male\", \"male\", \"gender_diverse\")) |>\n",
    "  mutate(subscribe = as.factor(subscribe))\n",
    "\n",
    "# Create a histogram for all players\n",
    "ggplot(players_full, aes(x = played_hours, fill = subscribe)) +\n",
    "  geom_histogram(binwidth = 10, position = \"dodge\") +\n",
    "  labs(\n",
    "    title = \"Distribution of Played Hours by Subscription Status(Figure 5)\",\n",
    "    x = \"Played Hours\",\n",
    "    y = \"Number of Players\",\n",
    "    fill = \"Subscribed\"\n",
    "  ) +\n",
    "  theme_minimal() +\n",
    "  facet_wrap(~gender, scales = \"free\") \n"
   ]
  },
  {
   "cell_type": "markdown",
   "id": "2291c470-881f-469a-afae-e86411a524f9",
   "metadata": {},
   "source": [
    "### Explanation:\n",
    "- **`geom_histogram()`**: Creates the histogram, where `binwidth` specifies the width of each bar in the histogram.\n",
    "- **`position = \"dodge\"`**: This separates the bars for players who subscribed and those who did not.\n",
    "- **`facet_wrap(~gender)`**: This creates separate histograms for male and gender-diverse players, allowing for easy comparison between the groups.\n",
    "- **`labs()`**: Adds titles and axis labels to the plot.\n",
    "\n",
    "This visualization will help us see how the distribution of played hours differs between subscribed and non-subscribed players and also how this pattern might vary between male and gender-diverse players."
   ]
  },
  {
   "cell_type": "markdown",
   "id": "11a90fa1-bbaa-47e4-9a7a-1399ca439a28",
   "metadata": {},
   "source": [
    "## Discussion\n",
    "\n",
    "### Summary of Findings:\n",
    "The KNN models trained on different groups of players showed that total played hours is an important factor in predicting whether a player subscribes to a game-related newsletter. Players who spend more time playing the game are more likely to subscribe to the newsletter. This trend was observed in both male and gender-diverse players, though the model's performance varied across these groups.\n",
    "\n",
    "- **For all players (combined):** The model had an accuracy of 61.7%. This suggests that total played hours can provide a moderate prediction of subscription likelihood across the full player base.\n",
    "- **For male players:** The accuracy was 75%, indicating that played hours are an important predictor, but the model's performance is more reliable for male players than for the full dataset.\n",
    "- **For gender-diverse players:** The accuracy was 77%, suggesting that played hours are a particularly strong predictor for this group. Gender-diverse players might have a clearer connection between their in-game time and subscription behavior compared to male players.\n",
    "\n",
    "### Is this what you expected to find?\n",
    "\n",
    "- **Expected Outcomes**: We thought that total played hours would be an important factor for predicting newsletter subscriptions because players who play more may want to get more information, like newsletters. This fits with our expectations, as time spent in the game likely shows an interest in staying informed about game updates, events, and other content.\n",
    "  \n",
    "- **Unexpected Outcomes**: The difference in model performance between male and gender-diverse players was surprising. We thought played hours would be useful for both groups, but the model did better for gender-diverse players. This means that their behavior in the game might match their subscription choices more clearly. It also shows that gender might affect not just the chance of subscribing but also how players react to game marketing. This could depend on their interests, gaming habits, or how much they engage with the game community.\n",
    "\n",
    "The lower accuracy for male players suggests that there are other factors—possibly not in this dataset—that influence their decision to subscribe to newsletters. It may also mean that male players’ subscription behavior is less linked to in-game hours, or that including other features (like experience or age) would improve the model for this group.\n",
    "\n",
    "In conclusion, the analysis showed that played hours is an important predictor for newsletter subscriptions, but it works better for gender-diverse players. This means that while played hours are helpful, exploring more features and improving the model (especially for male players) could make predictions more accurate for all players. Gender differences in how played hours predict subscription behavior could also be interesting to study further, as they may help us understand player behavior and improve marketing strategies.\n",
    "\n",
    "### What impact could such findings have?\n",
    "\n",
    "Our findings and results emphasize how crucial it is to take gender diversity into consideration when developing predictive models for user behavior analysis:\n",
    "\n",
    "**Targeted Marketing Strategies:** Since we have shown that subscription behaviour is more predictable for gender-diverse and male players, companies can use this insight to create effective advertisements aimed at these players without over-targeting or overlooking certain groups.\n",
    "\n",
    "**Gaming Product Design:** Game developers can explore why gender-diverse and male users like their game and newsletter and then use those discoveries to create more inclusive, engaging game features.\n",
    "\n",
    "**Encourages Inclusive Data Science Methods:** Our research highlights the importance of including a wide range of demographics groups when collecting data in order to gain a more complete picture of user behaviour.\n",
    "\n",
    "**Discovering Hidden Model Biases:** The discrepancy between our overall accuracy (61.7%), male-only accuracy (75%), and gender-diverse accuracy (77%) demonstrates that certain subgroups may underperform or excel with specific models. This shows that data analysis should always involve subgroup analysis when evaluating accuracy of a given model.\n",
    "\n",
    "### What future questions could this lead to?\n",
    "\n",
    "Our findings and results open the door to a variety of thought-provoking questions that require further analysis to answer such as:\n",
    "\n",
    "1. Why is the subscription predictive accuracy so low for the complete dataset? If we used models for each subgroup of gender, would all of them produce greater accuracies?\n",
    "\n",
    "2. What reasons do different genders value the game and newsletter for? Is it the actual content of the game? Are certain genders more likely to develop an emotional connection? For instance, some players may feel a stronger emotional attachment because of the inclusivity and representation in the game and the community. Are certain genders more likely to rely on the newsletter or external sources for updates on the game?\n",
    "\n",
    "3. How might other factors and their interactions with gender affect subscription predictability? For example, what would change if we also used experience or age as predictors?\n",
    "\n",
    "4. How would our results change in larger datasets or different types of games?\n"
   ]
  }
 ],
 "metadata": {
  "kernelspec": {
   "display_name": "R",
   "language": "R",
   "name": "ir"
  },
  "language_info": {
   "codemirror_mode": "r",
   "file_extension": ".r",
   "mimetype": "text/x-r-source",
   "name": "R",
   "pygments_lexer": "r",
   "version": "4.3.3"
  }
 },
 "nbformat": 4,
 "nbformat_minor": 5
}
